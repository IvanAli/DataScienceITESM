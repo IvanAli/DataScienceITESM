{
 "cells": [
  {
   "cell_type": "code",
   "execution_count": 252,
   "metadata": {
    "collapsed": false
   },
   "outputs": [
    {
     "data": {
      "application/javascript": [
       "IPython.notebook.set_autosave_interval(10000)"
      ]
     },
     "metadata": {},
     "output_type": "display_data"
    },
    {
     "name": "stdout",
     "output_type": "stream",
     "text": [
      "Autosaving every 10 seconds\n"
     ]
    }
   ],
   "source": [
    "import pandas as pd\n",
    "import numpy as np\n",
    "%matplotlib inline\n",
    "%autosave 10\n",
    "import warnings\n",
    "import matplotlib.pyplot as plt"
   ]
  },
  {
   "cell_type": "code",
   "execution_count": 272,
   "metadata": {
    "collapsed": true
   },
   "outputs": [],
   "source": [
    "df = pd.read_csv('slim_airplanes_40perc.csv')"
   ]
  },
  {
   "cell_type": "code",
   "execution_count": 273,
   "metadata": {
    "collapsed": false
   },
   "outputs": [],
   "source": [
    "if 'Unnamed: 0' in df: del df['Unnamed: 0']"
   ]
  },
  {
   "cell_type": "code",
   "execution_count": 274,
   "metadata": {
    "collapsed": false
   },
   "outputs": [
    {
     "data": {
      "text/html": [
       "<div>\n",
       "<table border=\"1\" class=\"dataframe\">\n",
       "  <thead>\n",
       "    <tr style=\"text-align: right;\">\n",
       "      <th></th>\n",
       "      <th>Quarter</th>\n",
       "      <th>Month</th>\n",
       "      <th>UniqueCarrier</th>\n",
       "      <th>FlightNum</th>\n",
       "      <th>OriginAirportID</th>\n",
       "      <th>DestAirportID</th>\n",
       "      <th>CRSDepTime</th>\n",
       "      <th>DepDelay</th>\n",
       "      <th>CRSArrTime</th>\n",
       "      <th>ArrDelay</th>\n",
       "      <th>Cancelled</th>\n",
       "      <th>CancellationCode</th>\n",
       "      <th>Distance</th>\n",
       "    </tr>\n",
       "  </thead>\n",
       "  <tbody>\n",
       "    <tr>\n",
       "      <th>2123459</th>\n",
       "      <td>3</td>\n",
       "      <td>9</td>\n",
       "      <td>F9</td>\n",
       "      <td>1219</td>\n",
       "      <td>14100</td>\n",
       "      <td>13204</td>\n",
       "      <td>530</td>\n",
       "      <td>NaN</td>\n",
       "      <td>805</td>\n",
       "      <td>NaN</td>\n",
       "      <td>1.0</td>\n",
       "      <td>A</td>\n",
       "      <td>861.0</td>\n",
       "    </tr>\n",
       "    <tr>\n",
       "      <th>2123460</th>\n",
       "      <td>3</td>\n",
       "      <td>9</td>\n",
       "      <td>F9</td>\n",
       "      <td>1214</td>\n",
       "      <td>13204</td>\n",
       "      <td>14100</td>\n",
       "      <td>845</td>\n",
       "      <td>NaN</td>\n",
       "      <td>1110</td>\n",
       "      <td>NaN</td>\n",
       "      <td>1.0</td>\n",
       "      <td>A</td>\n",
       "      <td>861.0</td>\n",
       "    </tr>\n",
       "    <tr>\n",
       "      <th>2123913</th>\n",
       "      <td>3</td>\n",
       "      <td>9</td>\n",
       "      <td>F9</td>\n",
       "      <td>1271</td>\n",
       "      <td>13930</td>\n",
       "      <td>12892</td>\n",
       "      <td>2055</td>\n",
       "      <td>NaN</td>\n",
       "      <td>2323</td>\n",
       "      <td>NaN</td>\n",
       "      <td>1.0</td>\n",
       "      <td>A</td>\n",
       "      <td>1744.0</td>\n",
       "    </tr>\n",
       "    <tr>\n",
       "      <th>2124804</th>\n",
       "      <td>3</td>\n",
       "      <td>9</td>\n",
       "      <td>HA</td>\n",
       "      <td>44</td>\n",
       "      <td>12173</td>\n",
       "      <td>14831</td>\n",
       "      <td>1345</td>\n",
       "      <td>NaN</td>\n",
       "      <td>2155</td>\n",
       "      <td>NaN</td>\n",
       "      <td>1.0</td>\n",
       "      <td>A</td>\n",
       "      <td>2417.0</td>\n",
       "    </tr>\n",
       "    <tr>\n",
       "      <th>2125746</th>\n",
       "      <td>3</td>\n",
       "      <td>9</td>\n",
       "      <td>HA</td>\n",
       "      <td>162</td>\n",
       "      <td>12173</td>\n",
       "      <td>12402</td>\n",
       "      <td>1339</td>\n",
       "      <td>NaN</td>\n",
       "      <td>1430</td>\n",
       "      <td>NaN</td>\n",
       "      <td>1.0</td>\n",
       "      <td>A</td>\n",
       "      <td>216.0</td>\n",
       "    </tr>\n",
       "  </tbody>\n",
       "</table>\n",
       "</div>"
      ],
      "text/plain": [
       "         Quarter  Month UniqueCarrier  FlightNum  OriginAirportID  \\\n",
       "2123459        3      9            F9       1219            14100   \n",
       "2123460        3      9            F9       1214            13204   \n",
       "2123913        3      9            F9       1271            13930   \n",
       "2124804        3      9            HA         44            12173   \n",
       "2125746        3      9            HA        162            12173   \n",
       "\n",
       "         DestAirportID  CRSDepTime  DepDelay  CRSArrTime  ArrDelay  Cancelled  \\\n",
       "2123459          13204         530       NaN         805       NaN        1.0   \n",
       "2123460          14100         845       NaN        1110       NaN        1.0   \n",
       "2123913          12892        2055       NaN        2323       NaN        1.0   \n",
       "2124804          14831        1345       NaN        2155       NaN        1.0   \n",
       "2125746          12402        1339       NaN        1430       NaN        1.0   \n",
       "\n",
       "        CancellationCode  Distance  \n",
       "2123459                A     861.0  \n",
       "2123460                A     861.0  \n",
       "2123913                A    1744.0  \n",
       "2124804                A    2417.0  \n",
       "2125746                A     216.0  "
      ]
     },
     "execution_count": 274,
     "metadata": {},
     "output_type": "execute_result"
    }
   ],
   "source": [
    "df[df['Cancelled'] == 1].tail()"
   ]
  },
  {
   "cell_type": "code",
   "execution_count": 136,
   "metadata": {
    "collapsed": false
   },
   "outputs": [
    {
     "name": "stdout",
     "output_type": "stream",
     "text": [
      "[     0      1      2 ..., 531458 531459 531460]\n"
     ]
    }
   ],
   "source": [
    "# index = df[df['Cancelled'] == 1].groupby('DepDelay')['DepDelay'].count()\n",
    "inds = pd.isnull(df).any(1).nonzero()[0]\n",
    "print(inds)"
   ]
  },
  {
   "cell_type": "markdown",
   "metadata": {},
   "source": [
    "### Identifying columns to be ignored"
   ]
  },
  {
   "cell_type": "code",
   "execution_count": 275,
   "metadata": {
    "collapsed": false
   },
   "outputs": [
    {
     "data": {
      "text/plain": [
       "31685"
      ]
     },
     "execution_count": 275,
     "metadata": {},
     "output_type": "execute_result"
    }
   ],
   "source": [
    "df[df['Cancelled'] == 1]['DepDelay'].isnull().sum()"
   ]
  },
  {
   "cell_type": "code",
   "execution_count": 276,
   "metadata": {
    "collapsed": false
   },
   "outputs": [
    {
     "data": {
      "text/plain": [
       "0"
      ]
     },
     "execution_count": 276,
     "metadata": {},
     "output_type": "execute_result"
    }
   ],
   "source": [
    "df[df['Cancelled'] == 0]['DepDelay'].isnull().sum()"
   ]
  },
  {
   "cell_type": "code",
   "execution_count": 277,
   "metadata": {
    "collapsed": false
   },
   "outputs": [
    {
     "data": {
      "text/plain": [
       "31685"
      ]
     },
     "execution_count": 277,
     "metadata": {},
     "output_type": "execute_result"
    }
   ],
   "source": [
    "df[df['Cancelled'] == 1]['ArrDelay'].isnull().sum()"
   ]
  },
  {
   "cell_type": "code",
   "execution_count": 278,
   "metadata": {
    "collapsed": false
   },
   "outputs": [
    {
     "data": {
      "text/plain": [
       "5574"
      ]
     },
     "execution_count": 278,
     "metadata": {},
     "output_type": "execute_result"
    }
   ],
   "source": [
    "df[df['Cancelled'] == 0]['ArrDelay'].isnull().sum()"
   ]
  },
  {
   "cell_type": "code",
   "execution_count": 279,
   "metadata": {
    "collapsed": false
   },
   "outputs": [
    {
     "data": {
      "text/plain": [
       "0"
      ]
     },
     "execution_count": 279,
     "metadata": {},
     "output_type": "execute_result"
    }
   ],
   "source": [
    "df[df['Cancelled'] == 0]['DepDelay'].isnull().sum()"
   ]
  },
  {
   "cell_type": "code",
   "execution_count": 280,
   "metadata": {
    "collapsed": false
   },
   "outputs": [
    {
     "data": {
      "text/plain": [
       "(2125894, 13)"
      ]
     },
     "execution_count": 280,
     "metadata": {},
     "output_type": "execute_result"
    }
   ],
   "source": [
    "df.shape"
   ]
  },
  {
   "cell_type": "code",
   "execution_count": 281,
   "metadata": {
    "collapsed": true
   },
   "outputs": [],
   "source": [
    "cols = ['Quarter', 'Month', 'UniqueCarrier', 'FlightNum', 'OriginAirportID', 'DestAirportID', 'Distance']"
   ]
  },
  {
   "cell_type": "code",
   "execution_count": 282,
   "metadata": {
    "collapsed": true
   },
   "outputs": [],
   "source": [
    "from sklearn import preprocessing"
   ]
  },
  {
   "cell_type": "code",
   "execution_count": 283,
   "metadata": {
    "collapsed": false
   },
   "outputs": [
    {
     "data": {
      "text/html": [
       "<div>\n",
       "<table border=\"1\" class=\"dataframe\">\n",
       "  <thead>\n",
       "    <tr style=\"text-align: right;\">\n",
       "      <th></th>\n",
       "      <th>Quarter</th>\n",
       "      <th>Month</th>\n",
       "      <th>UniqueCarrier</th>\n",
       "      <th>FlightNum</th>\n",
       "      <th>OriginAirportID</th>\n",
       "      <th>DestAirportID</th>\n",
       "      <th>CRSDepTime</th>\n",
       "      <th>DepDelay</th>\n",
       "      <th>CRSArrTime</th>\n",
       "      <th>ArrDelay</th>\n",
       "      <th>Cancelled</th>\n",
       "      <th>CancellationCode</th>\n",
       "      <th>Distance</th>\n",
       "    </tr>\n",
       "  </thead>\n",
       "  <tbody>\n",
       "    <tr>\n",
       "      <th>22</th>\n",
       "      <td>1</td>\n",
       "      <td>1</td>\n",
       "      <td>AA</td>\n",
       "      <td>2</td>\n",
       "      <td>12892</td>\n",
       "      <td>12478</td>\n",
       "      <td>900</td>\n",
       "      <td>NaN</td>\n",
       "      <td>1729</td>\n",
       "      <td>NaN</td>\n",
       "      <td>1.0</td>\n",
       "      <td>B</td>\n",
       "      <td>2475.0</td>\n",
       "    </tr>\n",
       "    <tr>\n",
       "      <th>40</th>\n",
       "      <td>1</td>\n",
       "      <td>1</td>\n",
       "      <td>AA</td>\n",
       "      <td>3</td>\n",
       "      <td>12478</td>\n",
       "      <td>12892</td>\n",
       "      <td>1230</td>\n",
       "      <td>NaN</td>\n",
       "      <td>1555</td>\n",
       "      <td>NaN</td>\n",
       "      <td>1.0</td>\n",
       "      <td>B</td>\n",
       "      <td>2475.0</td>\n",
       "    </tr>\n",
       "    <tr>\n",
       "      <th>50</th>\n",
       "      <td>1</td>\n",
       "      <td>1</td>\n",
       "      <td>AA</td>\n",
       "      <td>4</td>\n",
       "      <td>12892</td>\n",
       "      <td>12478</td>\n",
       "      <td>1230</td>\n",
       "      <td>NaN</td>\n",
       "      <td>2106</td>\n",
       "      <td>NaN</td>\n",
       "      <td>1.0</td>\n",
       "      <td>B</td>\n",
       "      <td>2475.0</td>\n",
       "    </tr>\n",
       "    <tr>\n",
       "      <th>180</th>\n",
       "      <td>1</td>\n",
       "      <td>1</td>\n",
       "      <td>AA</td>\n",
       "      <td>18</td>\n",
       "      <td>14771</td>\n",
       "      <td>12478</td>\n",
       "      <td>2225</td>\n",
       "      <td>NaN</td>\n",
       "      <td>649</td>\n",
       "      <td>NaN</td>\n",
       "      <td>1.0</td>\n",
       "      <td>B</td>\n",
       "      <td>2586.0</td>\n",
       "    </tr>\n",
       "    <tr>\n",
       "      <th>181</th>\n",
       "      <td>1</td>\n",
       "      <td>1</td>\n",
       "      <td>AA</td>\n",
       "      <td>18</td>\n",
       "      <td>14771</td>\n",
       "      <td>12478</td>\n",
       "      <td>2225</td>\n",
       "      <td>NaN</td>\n",
       "      <td>649</td>\n",
       "      <td>NaN</td>\n",
       "      <td>1.0</td>\n",
       "      <td>B</td>\n",
       "      <td>2586.0</td>\n",
       "    </tr>\n",
       "  </tbody>\n",
       "</table>\n",
       "</div>"
      ],
      "text/plain": [
       "     Quarter  Month UniqueCarrier  FlightNum  OriginAirportID  DestAirportID  \\\n",
       "22         1      1            AA          2            12892          12478   \n",
       "40         1      1            AA          3            12478          12892   \n",
       "50         1      1            AA          4            12892          12478   \n",
       "180        1      1            AA         18            14771          12478   \n",
       "181        1      1            AA         18            14771          12478   \n",
       "\n",
       "     CRSDepTime  DepDelay  CRSArrTime  ArrDelay  Cancelled CancellationCode  \\\n",
       "22          900       NaN        1729       NaN        1.0                B   \n",
       "40         1230       NaN        1555       NaN        1.0                B   \n",
       "50         1230       NaN        2106       NaN        1.0                B   \n",
       "180        2225       NaN         649       NaN        1.0                B   \n",
       "181        2225       NaN         649       NaN        1.0                B   \n",
       "\n",
       "     Distance  \n",
       "22     2475.0  \n",
       "40     2475.0  \n",
       "50     2475.0  \n",
       "180    2586.0  \n",
       "181    2586.0  "
      ]
     },
     "execution_count": 283,
     "metadata": {},
     "output_type": "execute_result"
    }
   ],
   "source": [
    "df[df['Cancelled'] == 1].head()"
   ]
  },
  {
   "cell_type": "code",
   "execution_count": 284,
   "metadata": {
    "collapsed": false
   },
   "outputs": [],
   "source": [
    "def convert(data):\n",
    "    number = preprocessing.LabelEncoder()\n",
    "    data['UniqueCarrier'] = number.fit_transform(data.UniqueCarrier)\n",
    "#     data['Source'] = number.fit_transform(data.Source)\n",
    "    data=data.fillna(-999)\n",
    "    return data"
   ]
  },
  {
   "cell_type": "code",
   "execution_count": 285,
   "metadata": {
    "collapsed": false
   },
   "outputs": [
    {
     "data": {
      "text/plain": [
       "0          False\n",
       "1          False\n",
       "2          False\n",
       "3          False\n",
       "4          False\n",
       "5          False\n",
       "6          False\n",
       "7          False\n",
       "8          False\n",
       "9          False\n",
       "10         False\n",
       "11         False\n",
       "12         False\n",
       "13         False\n",
       "14         False\n",
       "15         False\n",
       "16         False\n",
       "17         False\n",
       "18         False\n",
       "19         False\n",
       "20         False\n",
       "21         False\n",
       "22         False\n",
       "23         False\n",
       "24         False\n",
       "25         False\n",
       "26         False\n",
       "27         False\n",
       "28         False\n",
       "29         False\n",
       "           ...  \n",
       "2125864    False\n",
       "2125865    False\n",
       "2125866    False\n",
       "2125867    False\n",
       "2125868    False\n",
       "2125869    False\n",
       "2125870    False\n",
       "2125871    False\n",
       "2125872    False\n",
       "2125873    False\n",
       "2125874    False\n",
       "2125875    False\n",
       "2125876    False\n",
       "2125877    False\n",
       "2125878    False\n",
       "2125879    False\n",
       "2125880    False\n",
       "2125881    False\n",
       "2125882    False\n",
       "2125883    False\n",
       "2125884    False\n",
       "2125885    False\n",
       "2125886    False\n",
       "2125887    False\n",
       "2125888    False\n",
       "2125889    False\n",
       "2125890    False\n",
       "2125891    False\n",
       "2125892    False\n",
       "2125893    False\n",
       "dtype: bool"
      ]
     },
     "execution_count": 285,
     "metadata": {},
     "output_type": "execute_result"
    }
   ],
   "source": [
    "df.applymap(np.isreal)[cols].all(1)"
   ]
  },
  {
   "cell_type": "code",
   "execution_count": 286,
   "metadata": {
    "collapsed": true
   },
   "outputs": [],
   "source": [
    "newdf = convert(df)"
   ]
  },
  {
   "cell_type": "code",
   "execution_count": 205,
   "metadata": {
    "collapsed": false
   },
   "outputs": [],
   "source": [
    "reals = newdf.applymap(np.isreal).all(1)"
   ]
  },
  {
   "cell_type": "code",
   "execution_count": 207,
   "metadata": {
    "collapsed": false
   },
   "outputs": [
    {
     "data": {
      "text/plain": [
       "0"
      ]
     },
     "execution_count": 207,
     "metadata": {},
     "output_type": "execute_result"
    }
   ],
   "source": [
    "reals[reals == False].sum()"
   ]
  },
  {
   "cell_type": "code",
   "execution_count": 74,
   "metadata": {
    "collapsed": false
   },
   "outputs": [
    {
     "data": {
      "text/plain": [
       "array(['Quarter', 'Month', 'UniqueCarrier', 'FlightNum', 'OriginAirportID',\n",
       "       'DestAirportID', 'CRSDepTime', 'DepDelay', 'CRSArrTime', 'ArrDelay',\n",
       "       'Cancelled', 'CancellationCode', 'Distance'], dtype=object)"
      ]
     },
     "execution_count": 74,
     "metadata": {},
     "output_type": "execute_result"
    }
   ],
   "source": [
    "df.columns.values"
   ]
  },
  {
   "cell_type": "code",
   "execution_count": null,
   "metadata": {
    "collapsed": true
   },
   "outputs": [],
   "source": []
  },
  {
   "cell_type": "markdown",
   "metadata": {},
   "source": [
    "## Trying out different classifiers"
   ]
  },
  {
   "cell_type": "code",
   "execution_count": 287,
   "metadata": {
    "collapsed": true
   },
   "outputs": [],
   "source": [
    "from operator import itemgetter\n",
    "from sklearn.grid_search import RandomizedSearchCV\n",
    "from scipy.stats import randint as sp_randint\n",
    "from scipy.stats import expon as sp_expon\n",
    "from time import time\n",
    "from sklearn.cross_validation import train_test_split"
   ]
  },
  {
   "cell_type": "markdown",
   "metadata": {},
   "source": [
    "### Split of data into train and test data"
   ]
  },
  {
   "cell_type": "code",
   "execution_count": 288,
   "metadata": {
    "collapsed": false
   },
   "outputs": [],
   "source": [
    "X_train, X_test, y_train, y_test = train_test_split(newdf[['Quarter', 'Month', 'UniqueCarrier', 'FlightNum', 'OriginAirportID', 'DestAirportID', 'Distance']], newdf['Cancelled'], test_size=0.15)"
   ]
  },
  {
   "cell_type": "code",
   "execution_count": 289,
   "metadata": {
    "collapsed": true
   },
   "outputs": [],
   "source": [
    "# Utility function to report best scores of a randomized search\n",
    "def report(grid_scores, n_top=3):\n",
    "    top_scores = sorted(grid_scores, key=itemgetter(1), reverse=True)[:n_top]\n",
    "    for i, score in enumerate(top_scores):\n",
    "        print(\"Model with rank: {0}\".format(i + 1))\n",
    "        print(\"Mean validation score: {0:.3f} (std: {1:.3f})\".format(\n",
    "              score.mean_validation_score,\n",
    "              np.std(score.cv_validation_scores)))\n",
    "        print(\"Parameters: {0}\".format(score.parameters))\n",
    "        print(\"\")"
   ]
  },
  {
   "cell_type": "code",
   "execution_count": 290,
   "metadata": {
    "collapsed": false
   },
   "outputs": [
    {
     "data": {
      "text/plain": [
       "(1807009, 7)"
      ]
     },
     "execution_count": 290,
     "metadata": {},
     "output_type": "execute_result"
    }
   ],
   "source": [
    "X_train.shape"
   ]
  },
  {
   "cell_type": "code",
   "execution_count": 291,
   "metadata": {
    "collapsed": false
   },
   "outputs": [
    {
     "data": {
      "text/plain": [
       "(1807009,)"
      ]
     },
     "execution_count": 291,
     "metadata": {},
     "output_type": "execute_result"
    }
   ],
   "source": [
    "y_train.shape"
   ]
  },
  {
   "cell_type": "code",
   "execution_count": 212,
   "metadata": {
    "collapsed": false
   },
   "outputs": [
    {
     "data": {
      "text/plain": [
       "(6675,)"
      ]
     },
     "execution_count": 212,
     "metadata": {},
     "output_type": "execute_result"
    }
   ],
   "source": [
    "y_train[y_train == 1].shape"
   ]
  },
  {
   "cell_type": "markdown",
   "metadata": {},
   "source": [
    "### Random Forest"
   ]
  },
  {
   "cell_type": "code",
   "execution_count": 17,
   "metadata": {
    "collapsed": true
   },
   "outputs": [],
   "source": [
    "from sklearn.ensemble import RandomForestClassifier"
   ]
  },
  {
   "cell_type": "code",
   "execution_count": 292,
   "metadata": {
    "collapsed": false
   },
   "outputs": [
    {
     "name": "stdout",
     "output_type": "stream",
     "text": [
      "CPU times: user 51.5 s, sys: 1.13 s, total: 52.6 s\n",
      "Wall time: 21min 30s\n",
      "Model with rank: 1\n",
      "Mean validation score: 0.985 (std: 0.000)\n",
      "Parameters: {'min_samples_leaf': 10, 'max_depth': 3, 'criterion': 'gini', 'min_samples_split': 11}\n",
      "\n",
      "Model with rank: 2\n",
      "Mean validation score: 0.985 (std: 0.000)\n",
      "Parameters: {'min_samples_leaf': 13, 'max_depth': 3, 'criterion': 'gini', 'min_samples_split': 11}\n",
      "\n",
      "Model with rank: 3\n",
      "Mean validation score: 0.985 (std: 0.000)\n",
      "Parameters: {'min_samples_leaf': 8, 'max_depth': 15, 'criterion': 'entropy', 'min_samples_split': 9}\n",
      "\n"
     ]
    }
   ],
   "source": [
    "rf = RandomForestClassifier(n_estimators=30)\n",
    "param_dist = {\"max_depth\": [3, 10, 15, None],\n",
    "              \"min_samples_split\": sp_randint(1, 20),\n",
    "              \"min_samples_leaf\": sp_randint(1, 20),\n",
    "              \"criterion\": [\"gini\", \"entropy\"]}\n",
    "\n",
    "# run randomized search\n",
    "n_iter_search = 15\n",
    "rf_random_search = RandomizedSearchCV(rf, param_distributions=param_dist,\n",
    "                                   n_iter=n_iter_search, n_jobs=-1,\n",
    "                                  cv=3)\n",
    "\n",
    "%time rf_random_search.fit(X_train, y_train)\n",
    "# print(\"RandomizedSearchCV took %.2f seconds for %d candidates\"\n",
    "#       \" parameter settings.\" % ((time() - start), n_iter_search))\n",
    "report(rf_random_search.grid_scores_)"
   ]
  },
  {
   "cell_type": "markdown",
   "metadata": {},
   "source": [
    "### Logistic Regression"
   ]
  },
  {
   "cell_type": "code",
   "execution_count": 215,
   "metadata": {
    "collapsed": true
   },
   "outputs": [],
   "source": [
    "from sklearn.linear_model import LogisticRegression, SGDClassifier"
   ]
  },
  {
   "cell_type": "code",
   "execution_count": 293,
   "metadata": {
    "collapsed": false
   },
   "outputs": [
    {
     "name": "stdout",
     "output_type": "stream",
     "text": [
      "RandomizedSearchCV took 873.66 seconds for 25 candidates parameter settings.\n",
      "Model with rank: 1\n",
      "Mean validation score: 0.985 (std: 0.000)\n",
      "Parameters: {'C': 35.326740406565463, 'penalty': 'l1'}\n",
      "\n",
      "Model with rank: 2\n",
      "Mean validation score: 0.985 (std: 0.000)\n",
      "Parameters: {'C': 84.174170218734531, 'penalty': 'l2'}\n",
      "\n",
      "Model with rank: 3\n",
      "Mean validation score: 0.985 (std: 0.000)\n",
      "Parameters: {'C': 59.261847603066485, 'penalty': 'l2'}\n",
      "\n"
     ]
    }
   ],
   "source": [
    "lr = LogisticRegression()\n",
    "param_dist = {'penalty' : ['l1','l2'],\n",
    "             'C': sp_expon(scale=100)}\n",
    "# run randomized search\n",
    "n_iter_search = 25\n",
    "lr_random_search = RandomizedSearchCV(lr, param_distributions=param_dist,\n",
    "                                   n_iter=n_iter_search, n_jobs=-1,\n",
    "                                  cv=3)\n",
    "\n",
    "start = time()\n",
    "lr_random_search.fit(X_train, y_train)\n",
    "print(\"RandomizedSearchCV took %.2f seconds for %d candidates\"\n",
    "      \" parameter settings.\" % ((time() - start), n_iter_search))\n",
    "report(lr_random_search.grid_scores_)"
   ]
  },
  {
   "cell_type": "code",
   "execution_count": 294,
   "metadata": {
    "collapsed": false
   },
   "outputs": [
    {
     "name": "stdout",
     "output_type": "stream",
     "text": [
      "RandomizedSearchCV took 521.30 seconds for 15 candidates parameter settings.\n",
      "Model with rank: 1\n",
      "Mean validation score: 0.985 (std: 0.000)\n",
      "Parameters: {'loss': 'hinge', 'alpha': 0.010575634066853872}\n",
      "\n",
      "Model with rank: 2\n",
      "Mean validation score: 0.985 (std: 0.000)\n",
      "Parameters: {'loss': 'hinge', 'alpha': 0.10371147318548973}\n",
      "\n",
      "Model with rank: 3\n",
      "Mean validation score: 0.985 (std: 0.000)\n",
      "Parameters: {'loss': 'modified_huber', 'alpha': 0.12125197548684599}\n",
      "\n"
     ]
    }
   ],
   "source": [
    "sgd = SGDClassifier(n_iter=150)\n",
    "param_dist = {'loss':['hinge', 'modified_huber'],\n",
    "             'alpha':sp_expon(scale=0.2)}\n",
    "# run randomized search\n",
    "n_iter_search = 15\n",
    "sgd_random_search = RandomizedSearchCV(sgd, param_distributions=param_dist,\n",
    "                                   n_iter=n_iter_search, n_jobs=-1,\n",
    "                                  cv=3)\n",
    "\n",
    "start = time()\n",
    "sgd_random_search.fit(X_train, y_train)\n",
    "print(\"RandomizedSearchCV took %.2f seconds for %d candidates\"\n",
    "      \" parameter settings.\" % ((time() - start), n_iter_search))\n",
    "report(sgd_random_search.grid_scores_)"
   ]
  },
  {
   "cell_type": "markdown",
   "metadata": {},
   "source": [
    "### Naive Bayes"
   ]
  },
  {
   "cell_type": "code",
   "execution_count": 295,
   "metadata": {
    "collapsed": true
   },
   "outputs": [],
   "source": [
    "from sklearn.naive_bayes import MultinomialNB, BernoulliNB"
   ]
  },
  {
   "cell_type": "code",
   "execution_count": 296,
   "metadata": {
    "collapsed": false
   },
   "outputs": [
    {
     "name": "stdout",
     "output_type": "stream",
     "text": [
      "RandomizedSearchCV took 133.34 seconds for 35 candidates parameter settings.\n",
      "Model with rank: 1\n",
      "Mean validation score: 0.641 (std: 0.000)\n",
      "Parameters: {'alpha': 6.4439016716450306}\n",
      "\n",
      "Model with rank: 2\n",
      "Mean validation score: 0.641 (std: 0.000)\n",
      "Parameters: {'alpha': 2.8638425330994393}\n",
      "\n",
      "Model with rank: 3\n",
      "Mean validation score: 0.641 (std: 0.000)\n",
      "Parameters: {'alpha': 6.240873068786196}\n",
      "\n"
     ]
    }
   ],
   "source": [
    "mnb = MultinomialNB()\n",
    "param_dist = {'alpha':sp_expon(scale=10)}\n",
    "# run randomized search\n",
    "n_iter_search = 35\n",
    "mnb_random_search = RandomizedSearchCV(mnb, param_distributions=param_dist,\n",
    "                                   n_iter=n_iter_search, n_jobs=-1,\n",
    "                                  cv=3)\n",
    "\n",
    "start = time()\n",
    "mnb_random_search.fit(X_train, y_train)\n",
    "print(\"RandomizedSearchCV took %.2f seconds for %d candidates\"\n",
    "      \" parameter settings.\" % ((time() - start), n_iter_search))\n",
    "report(mnb_random_search.grid_scores_)"
   ]
  },
  {
   "cell_type": "code",
   "execution_count": 297,
   "metadata": {
    "collapsed": false
   },
   "outputs": [
    {
     "name": "stdout",
     "output_type": "stream",
     "text": [
      "RandomizedSearchCV took 139.23 seconds for 35 candidates parameter settings.\n",
      "Model with rank: 1\n",
      "Mean validation score: 0.985 (std: 0.000)\n",
      "Parameters: {'binarize': 4.2232983537336288, 'alpha': 0.085068325046037355}\n",
      "\n",
      "Model with rank: 2\n",
      "Mean validation score: 0.985 (std: 0.000)\n",
      "Parameters: {'binarize': 1.2932873145627168, 'alpha': 0.095935356319031176}\n",
      "\n",
      "Model with rank: 3\n",
      "Mean validation score: 0.985 (std: 0.000)\n",
      "Parameters: {'binarize': 1.2667800521091885, 'alpha': 0.3119314253113914}\n",
      "\n"
     ]
    }
   ],
   "source": [
    "bnb = BernoulliNB()\n",
    "param_dist = {'alpha':sp_expon(scale=0.3),\n",
    "              'binarize': sp_expon(scale=2)\n",
    "             }\n",
    "# run randomized search\n",
    "n_iter_search = 35\n",
    "bnb_random_search = RandomizedSearchCV(bnb, param_distributions=param_dist,\n",
    "                                   n_iter=n_iter_search, n_jobs=-1,\n",
    "                                  cv=3)\n",
    "\n",
    "start = time()\n",
    "bnb_random_search.fit(X_train, y_train)\n",
    "print(\"RandomizedSearchCV took %.2f seconds for %d candidates\"\n",
    "      \" parameter settings.\" % ((time() - start), n_iter_search))\n",
    "report(bnb_random_search.grid_scores_)"
   ]
  },
  {
   "cell_type": "code",
   "execution_count": 298,
   "metadata": {
    "collapsed": true
   },
   "outputs": [],
   "source": [
    "from sklearn.neighbors import KNeighborsClassifier"
   ]
  },
  {
   "cell_type": "code",
   "execution_count": 299,
   "metadata": {
    "collapsed": false
   },
   "outputs": [
    {
     "name": "stdout",
     "output_type": "stream",
     "text": [
      "Model with rank: 1\n",
      "Mean validation score: 0.985 (std: 0.000)\n",
      "Parameters: {'weights': 'uniform', 'n_neighbors': 20}\n",
      "\n",
      "Model with rank: 2\n",
      "Mean validation score: 0.985 (std: 0.000)\n",
      "Parameters: {'weights': 'uniform', 'n_neighbors': 25}\n",
      "\n",
      "Model with rank: 3\n",
      "Mean validation score: 0.985 (std: 0.000)\n",
      "Parameters: {'weights': 'uniform', 'n_neighbors': 30}\n",
      "\n"
     ]
    }
   ],
   "source": [
    "knn = KNeighborsClassifier()\n",
    "\n",
    "param_dist = {'n_neighbors': [5, 10, 15, 20, 25, 30], 'weights': ['uniform', 'distance']}\n",
    "\n",
    "n_iter_search = 12\n",
    "knn_random_search = RandomizedSearchCV(knn, param_distributions=param_dist, n_iter=n_iter_search, n_jobs=-1, cv=3)\n",
    "\n",
    "knn_random_search.fit(X_train, y_train)\n",
    "report(knn_random_search.grid_scores_)"
   ]
  },
  {
   "cell_type": "markdown",
   "metadata": {},
   "source": [
    "### Ensemble of classifiers"
   ]
  },
  {
   "cell_type": "code",
   "execution_count": 300,
   "metadata": {
    "collapsed": true
   },
   "outputs": [],
   "source": [
    "from sklearn.ensemble import VotingClassifier\n",
    "from sklearn.cross_validation import cross_val_score"
   ]
  },
  {
   "cell_type": "code",
   "execution_count": 301,
   "metadata": {
    "collapsed": false
   },
   "outputs": [
    {
     "name": "stdout",
     "output_type": "stream",
     "text": [
      "0.985117 (std: 0.000001)\n"
     ]
    },
    {
     "data": {
      "text/plain": [
       "VotingClassifier(estimators=[('lr', LogisticRegression(C=35.326740406565463, class_weight=None, dual=False,\n",
       "          fit_intercept=True, intercept_scaling=1, max_iter=100,\n",
       "          multi_class='ovr', n_jobs=1, penalty='l1', random_state=None,\n",
       "          solver='liblinear', tol=0.0001, verbose=0, warm_start=False)),...B(alpha=0.085068325046037355, binarize=4.2232983537336288,\n",
       "      class_prior=None, fit_prior=True))],\n",
       "         voting='soft', weights=None)"
      ]
     },
     "execution_count": 301,
     "metadata": {},
     "output_type": "execute_result"
    }
   ],
   "source": [
    "ensemble3 = VotingClassifier(estimators=[('lr',lr_random_search.best_estimator_),\\\n",
    "                                        ('rf', rf_random_search.best_estimator_),\\\n",
    "                                        ('bnb', bnb_random_search.best_estimator_)],\n",
    "                            voting='soft')\n",
    "scores = cross_val_score(ensemble3, X_train, y_train, cv=5)\n",
    "print ('%f (std: %f)' % (scores.mean(), scores.std()))\n",
    "ensemble3.fit(X_train, y_train)"
   ]
  },
  {
   "cell_type": "code",
   "execution_count": 302,
   "metadata": {
    "collapsed": true
   },
   "outputs": [],
   "source": [
    "from sklearn.metrics import accuracy_score, f1_score"
   ]
  },
  {
   "cell_type": "code",
   "execution_count": 303,
   "metadata": {
    "collapsed": false
   },
   "outputs": [
    {
     "name": "stderr",
     "output_type": "stream",
     "text": [
      "/usr/local/lib/python3.5/dist-packages/sklearn/metrics/classification.py:1074: UndefinedMetricWarning: F-score is ill-defined and being set to 0.0 due to no predicted samples.\n",
      "  'precision', 'predicted', average, warn_for)\n"
     ]
    },
    {
     "name": "stdout",
     "output_type": "stream",
     "text": [
      "knn, accuracy: 0.984973 f1: 0.000000\n",
      "bernoulli, accuracy: 0.984973 f1: 0.000000\n",
      "multinomial naive bayes, accuracy: 0.640541 f1: 0.044847\n",
      "ensemble, accuracy: 0.984973 f1: 0.000000\n",
      "logistic regression, accuracy: 0.984973 f1: 0.000000\n",
      "sgd svm, accuracy: 0.984810 f1: 0.000825\n",
      "random forest, accuracy: 0.984973 f1: 0.000000\n"
     ]
    }
   ],
   "source": [
    "models = {'random forest' : rf_random_search, \n",
    "          'logistic regression' : lr_random_search, \n",
    "          'sgd svm' : sgd_random_search, \n",
    "          'multinomial naive bayes' : mnb_random_search, \n",
    "          'bernoulli' : bnb_random_search,\n",
    "          'knn': knn_random_search,\n",
    "          'ensemble' : ensemble3}\n",
    "results = {k:{} for k in models.keys()}\n",
    "for model in models:\n",
    "    m = models[model]\n",
    "    predicted = m.predict(X_test)\n",
    "    acc = accuracy_score(y_test, predicted)\n",
    "    f1 = f1_score(y_test, predicted)\n",
    "    results[model]['accuracy'] = acc\n",
    "    results[model]['f1'] = f1\n",
    "    print ('%s, accuracy: %f f1: %f' % (model, acc, f1))"
   ]
  },
  {
   "cell_type": "code",
   "execution_count": 304,
   "metadata": {
    "collapsed": true
   },
   "outputs": [],
   "source": [
    "import seaborn as sns"
   ]
  },
  {
   "cell_type": "code",
   "execution_count": 305,
   "metadata": {
    "collapsed": false
   },
   "outputs": [],
   "source": [
    "clfs = {'model': pd.Series([m for m in results.keys()], index=np.arange(len(results))),\n",
    "       'accuracy': pd.Series([results[m]['accuracy'] for m in results.keys()], index=np.arange(len(results))),\n",
    "       'f1': pd.Series([results[m]['f1'] for m in results.keys()], index=np.arange(len(results)))}\n",
    "clfs_df = pd.DataFrame(clfs)"
   ]
  },
  {
   "cell_type": "code",
   "execution_count": 313,
   "metadata": {
    "collapsed": false
   },
   "outputs": [
    {
     "data": {
      "image/png": "[encoded data removed]",
      "text/plain": [
       "<matplotlib.figure.Figure at 0x7fba6ff5ecc0>"
      ]
     },
     "metadata": {},
     "output_type": "display_data"
    }
   ],
   "source": [
    "sns.pointplot(x='model', y='accuracy', data=clfs_df)\n",
    "plt.xticks(rotation=45)\n",
    "plt.title('Accuracy scores')\n",
    "plt.savefig('graph/acc_scores_classifiers.png', bbox_inches='tight')"
   ]
  },
  {
   "cell_type": "code",
   "execution_count": 314,
   "metadata": {
    "collapsed": false
   },
   "outputs": [
    {
     "data": {
      "image/png": "[encoded data removed]",
      "text/plain": [
       "<matplotlib.figure.Figure at 0x7fba30e67c88>"
      ]
     },
     "metadata": {},
     "output_type": "display_data"
    }
   ],
   "source": [
    "sns.pointplot(x='model', y='f1', data=clfs_df)\n",
    "plt.xticks(rotation=45)\n",
    "plt.title('F1 scores')\n",
    "plt.savefig('graph/f1_scores_classifiers.png', bbox_inches='tight')"
   ]
  },
  {
   "cell_type": "code",
   "execution_count": 309,
   "metadata": {
    "collapsed": false
   },
   "outputs": [
    {
     "data": {
      "text/plain": [
       "['pickle/ensemble/ensemble.pkl',\n",
       " 'pickle/ensemble/ensemble.pkl_01.npy',\n",
       " 'pickle/ensemble/ensemble.pkl_02.npy',\n",
       " 'pickle/ensemble/ensemble.pkl_03.npy',\n",
       " 'pickle/ensemble/ensemble.pkl_04.npy',\n",
       " 'pickle/ensemble/ensemble.pkl_05.npy',\n",
       " 'pickle/ensemble/ensemble.pkl_06.npy',\n",
       " 'pickle/ensemble/ensemble.pkl_07.npy',\n",
       " 'pickle/ensemble/ensemble.pkl_08.npy',\n",
       " 'pickle/ensemble/ensemble.pkl_09.npy',\n",
       " 'pickle/ensemble/ensemble.pkl_10.npy',\n",
       " 'pickle/ensemble/ensemble.pkl_11.npy',\n",
       " 'pickle/ensemble/ensemble.pkl_12.npy',\n",
       " 'pickle/ensemble/ensemble.pkl_13.npy',\n",
       " 'pickle/ensemble/ensemble.pkl_14.npy',\n",
       " 'pickle/ensemble/ensemble.pkl_15.npy',\n",
       " 'pickle/ensemble/ensemble.pkl_16.npy',\n",
       " 'pickle/ensemble/ensemble.pkl_17.npy',\n",
       " 'pickle/ensemble/ensemble.pkl_18.npy',\n",
       " 'pickle/ensemble/ensemble.pkl_19.npy',\n",
       " 'pickle/ensemble/ensemble.pkl_20.npy',\n",
       " 'pickle/ensemble/ensemble.pkl_21.npy',\n",
       " 'pickle/ensemble/ensemble.pkl_22.npy',\n",
       " 'pickle/ensemble/ensemble.pkl_23.npy',\n",
       " 'pickle/ensemble/ensemble.pkl_24.npy',\n",
       " 'pickle/ensemble/ensemble.pkl_25.npy',\n",
       " 'pickle/ensemble/ensemble.pkl_26.npy',\n",
       " 'pickle/ensemble/ensemble.pkl_27.npy',\n",
       " 'pickle/ensemble/ensemble.pkl_28.npy',\n",
       " 'pickle/ensemble/ensemble.pkl_29.npy',\n",
       " 'pickle/ensemble/ensemble.pkl_30.npy',\n",
       " 'pickle/ensemble/ensemble.pkl_31.npy',\n",
       " 'pickle/ensemble/ensemble.pkl_32.npy',\n",
       " 'pickle/ensemble/ensemble.pkl_33.npy',\n",
       " 'pickle/ensemble/ensemble.pkl_34.npy',\n",
       " 'pickle/ensemble/ensemble.pkl_35.npy',\n",
       " 'pickle/ensemble/ensemble.pkl_36.npy',\n",
       " 'pickle/ensemble/ensemble.pkl_37.npy',\n",
       " 'pickle/ensemble/ensemble.pkl_38.npy',\n",
       " 'pickle/ensemble/ensemble.pkl_39.npy',\n",
       " 'pickle/ensemble/ensemble.pkl_40.npy',\n",
       " 'pickle/ensemble/ensemble.pkl_41.npy',\n",
       " 'pickle/ensemble/ensemble.pkl_42.npy',\n",
       " 'pickle/ensemble/ensemble.pkl_43.npy',\n",
       " 'pickle/ensemble/ensemble.pkl_44.npy',\n",
       " 'pickle/ensemble/ensemble.pkl_45.npy',\n",
       " 'pickle/ensemble/ensemble.pkl_46.npy',\n",
       " 'pickle/ensemble/ensemble.pkl_47.npy',\n",
       " 'pickle/ensemble/ensemble.pkl_48.npy',\n",
       " 'pickle/ensemble/ensemble.pkl_49.npy',\n",
       " 'pickle/ensemble/ensemble.pkl_50.npy',\n",
       " 'pickle/ensemble/ensemble.pkl_51.npy',\n",
       " 'pickle/ensemble/ensemble.pkl_52.npy',\n",
       " 'pickle/ensemble/ensemble.pkl_53.npy',\n",
       " 'pickle/ensemble/ensemble.pkl_54.npy',\n",
       " 'pickle/ensemble/ensemble.pkl_55.npy',\n",
       " 'pickle/ensemble/ensemble.pkl_56.npy',\n",
       " 'pickle/ensemble/ensemble.pkl_57.npy',\n",
       " 'pickle/ensemble/ensemble.pkl_58.npy',\n",
       " 'pickle/ensemble/ensemble.pkl_59.npy',\n",
       " 'pickle/ensemble/ensemble.pkl_60.npy',\n",
       " 'pickle/ensemble/ensemble.pkl_61.npy',\n",
       " 'pickle/ensemble/ensemble.pkl_62.npy',\n",
       " 'pickle/ensemble/ensemble.pkl_63.npy',\n",
       " 'pickle/ensemble/ensemble.pkl_64.npy',\n",
       " 'pickle/ensemble/ensemble.pkl_65.npy',\n",
       " 'pickle/ensemble/ensemble.pkl_66.npy',\n",
       " 'pickle/ensemble/ensemble.pkl_67.npy',\n",
       " 'pickle/ensemble/ensemble.pkl_68.npy',\n",
       " 'pickle/ensemble/ensemble.pkl_69.npy',\n",
       " 'pickle/ensemble/ensemble.pkl_70.npy',\n",
       " 'pickle/ensemble/ensemble.pkl_71.npy',\n",
       " 'pickle/ensemble/ensemble.pkl_72.npy',\n",
       " 'pickle/ensemble/ensemble.pkl_73.npy',\n",
       " 'pickle/ensemble/ensemble.pkl_74.npy',\n",
       " 'pickle/ensemble/ensemble.pkl_75.npy',\n",
       " 'pickle/ensemble/ensemble.pkl_76.npy',\n",
       " 'pickle/ensemble/ensemble.pkl_77.npy',\n",
       " 'pickle/ensemble/ensemble.pkl_78.npy',\n",
       " 'pickle/ensemble/ensemble.pkl_79.npy',\n",
       " 'pickle/ensemble/ensemble.pkl_80.npy',\n",
       " 'pickle/ensemble/ensemble.pkl_81.npy',\n",
       " 'pickle/ensemble/ensemble.pkl_82.npy',\n",
       " 'pickle/ensemble/ensemble.pkl_83.npy',\n",
       " 'pickle/ensemble/ensemble.pkl_84.npy',\n",
       " 'pickle/ensemble/ensemble.pkl_85.npy',\n",
       " 'pickle/ensemble/ensemble.pkl_86.npy',\n",
       " 'pickle/ensemble/ensemble.pkl_87.npy',\n",
       " 'pickle/ensemble/ensemble.pkl_88.npy',\n",
       " 'pickle/ensemble/ensemble.pkl_89.npy',\n",
       " 'pickle/ensemble/ensemble.pkl_90.npy',\n",
       " 'pickle/ensemble/ensemble.pkl_91.npy',\n",
       " 'pickle/ensemble/ensemble.pkl_92.npy',\n",
       " 'pickle/ensemble/ensemble.pkl_93.npy',\n",
       " 'pickle/ensemble/ensemble.pkl_94.npy',\n",
       " 'pickle/ensemble/ensemble.pkl_95.npy',\n",
       " 'pickle/ensemble/ensemble.pkl_96.npy',\n",
       " 'pickle/ensemble/ensemble.pkl_97.npy',\n",
       " 'pickle/ensemble/ensemble.pkl_98.npy',\n",
       " 'pickle/ensemble/ensemble.pkl_99.npy',\n",
       " 'pickle/ensemble/ensemble.pkl_100.npy',\n",
       " 'pickle/ensemble/ensemble.pkl_101.npy',\n",
       " 'pickle/ensemble/ensemble.pkl_102.npy',\n",
       " 'pickle/ensemble/ensemble.pkl_103.npy',\n",
       " 'pickle/ensemble/ensemble.pkl_104.npy',\n",
       " 'pickle/ensemble/ensemble.pkl_105.npy',\n",
       " 'pickle/ensemble/ensemble.pkl_106.npy',\n",
       " 'pickle/ensemble/ensemble.pkl_107.npy',\n",
       " 'pickle/ensemble/ensemble.pkl_108.npy',\n",
       " 'pickle/ensemble/ensemble.pkl_109.npy',\n",
       " 'pickle/ensemble/ensemble.pkl_110.npy',\n",
       " 'pickle/ensemble/ensemble.pkl_111.npy',\n",
       " 'pickle/ensemble/ensemble.pkl_112.npy',\n",
       " 'pickle/ensemble/ensemble.pkl_113.npy',\n",
       " 'pickle/ensemble/ensemble.pkl_114.npy',\n",
       " 'pickle/ensemble/ensemble.pkl_115.npy',\n",
       " 'pickle/ensemble/ensemble.pkl_116.npy',\n",
       " 'pickle/ensemble/ensemble.pkl_117.npy',\n",
       " 'pickle/ensemble/ensemble.pkl_118.npy',\n",
       " 'pickle/ensemble/ensemble.pkl_119.npy',\n",
       " 'pickle/ensemble/ensemble.pkl_120.npy',\n",
       " 'pickle/ensemble/ensemble.pkl_121.npy',\n",
       " 'pickle/ensemble/ensemble.pkl_122.npy',\n",
       " 'pickle/ensemble/ensemble.pkl_123.npy',\n",
       " 'pickle/ensemble/ensemble.pkl_124.npy',\n",
       " 'pickle/ensemble/ensemble.pkl_125.npy',\n",
       " 'pickle/ensemble/ensemble.pkl_126.npy',\n",
       " 'pickle/ensemble/ensemble.pkl_127.npy',\n",
       " 'pickle/ensemble/ensemble.pkl_128.npy',\n",
       " 'pickle/ensemble/ensemble.pkl_129.npy',\n",
       " 'pickle/ensemble/ensemble.pkl_130.npy',\n",
       " 'pickle/ensemble/ensemble.pkl_131.npy',\n",
       " 'pickle/ensemble/ensemble.pkl_132.npy',\n",
       " 'pickle/ensemble/ensemble.pkl_133.npy',\n",
       " 'pickle/ensemble/ensemble.pkl_134.npy',\n",
       " 'pickle/ensemble/ensemble.pkl_135.npy',\n",
       " 'pickle/ensemble/ensemble.pkl_136.npy',\n",
       " 'pickle/ensemble/ensemble.pkl_137.npy',\n",
       " 'pickle/ensemble/ensemble.pkl_138.npy',\n",
       " 'pickle/ensemble/ensemble.pkl_139.npy',\n",
       " 'pickle/ensemble/ensemble.pkl_140.npy',\n",
       " 'pickle/ensemble/ensemble.pkl_141.npy',\n",
       " 'pickle/ensemble/ensemble.pkl_142.npy',\n",
       " 'pickle/ensemble/ensemble.pkl_143.npy',\n",
       " 'pickle/ensemble/ensemble.pkl_144.npy',\n",
       " 'pickle/ensemble/ensemble.pkl_145.npy',\n",
       " 'pickle/ensemble/ensemble.pkl_146.npy',\n",
       " 'pickle/ensemble/ensemble.pkl_147.npy',\n",
       " 'pickle/ensemble/ensemble.pkl_148.npy',\n",
       " 'pickle/ensemble/ensemble.pkl_149.npy',\n",
       " 'pickle/ensemble/ensemble.pkl_150.npy',\n",
       " 'pickle/ensemble/ensemble.pkl_151.npy',\n",
       " 'pickle/ensemble/ensemble.pkl_152.npy',\n",
       " 'pickle/ensemble/ensemble.pkl_153.npy',\n",
       " 'pickle/ensemble/ensemble.pkl_154.npy',\n",
       " 'pickle/ensemble/ensemble.pkl_155.npy',\n",
       " 'pickle/ensemble/ensemble.pkl_156.npy',\n",
       " 'pickle/ensemble/ensemble.pkl_157.npy',\n",
       " 'pickle/ensemble/ensemble.pkl_158.npy',\n",
       " 'pickle/ensemble/ensemble.pkl_159.npy',\n",
       " 'pickle/ensemble/ensemble.pkl_160.npy',\n",
       " 'pickle/ensemble/ensemble.pkl_161.npy',\n",
       " 'pickle/ensemble/ensemble.pkl_162.npy',\n",
       " 'pickle/ensemble/ensemble.pkl_163.npy',\n",
       " 'pickle/ensemble/ensemble.pkl_164.npy',\n",
       " 'pickle/ensemble/ensemble.pkl_165.npy',\n",
       " 'pickle/ensemble/ensemble.pkl_166.npy',\n",
       " 'pickle/ensemble/ensemble.pkl_167.npy',\n",
       " 'pickle/ensemble/ensemble.pkl_168.npy',\n",
       " 'pickle/ensemble/ensemble.pkl_169.npy',\n",
       " 'pickle/ensemble/ensemble.pkl_170.npy',\n",
       " 'pickle/ensemble/ensemble.pkl_171.npy',\n",
       " 'pickle/ensemble/ensemble.pkl_172.npy',\n",
       " 'pickle/ensemble/ensemble.pkl_173.npy',\n",
       " 'pickle/ensemble/ensemble.pkl_174.npy',\n",
       " 'pickle/ensemble/ensemble.pkl_175.npy',\n",
       " 'pickle/ensemble/ensemble.pkl_176.npy',\n",
       " 'pickle/ensemble/ensemble.pkl_177.npy',\n",
       " 'pickle/ensemble/ensemble.pkl_178.npy',\n",
       " 'pickle/ensemble/ensemble.pkl_179.npy',\n",
       " 'pickle/ensemble/ensemble.pkl_180.npy',\n",
       " 'pickle/ensemble/ensemble.pkl_181.npy',\n",
       " 'pickle/ensemble/ensemble.pkl_182.npy',\n",
       " 'pickle/ensemble/ensemble.pkl_183.npy',\n",
       " 'pickle/ensemble/ensemble.pkl_184.npy',\n",
       " 'pickle/ensemble/ensemble.pkl_185.npy',\n",
       " 'pickle/ensemble/ensemble.pkl_186.npy',\n",
       " 'pickle/ensemble/ensemble.pkl_187.npy',\n",
       " 'pickle/ensemble/ensemble.pkl_188.npy',\n",
       " 'pickle/ensemble/ensemble.pkl_189.npy',\n",
       " 'pickle/ensemble/ensemble.pkl_190.npy',\n",
       " 'pickle/ensemble/ensemble.pkl_191.npy',\n",
       " 'pickle/ensemble/ensemble.pkl_192.npy',\n",
       " 'pickle/ensemble/ensemble.pkl_193.npy',\n",
       " 'pickle/ensemble/ensemble.pkl_194.npy',\n",
       " 'pickle/ensemble/ensemble.pkl_195.npy',\n",
       " 'pickle/ensemble/ensemble.pkl_196.npy',\n",
       " 'pickle/ensemble/ensemble.pkl_197.npy',\n",
       " 'pickle/ensemble/ensemble.pkl_198.npy',\n",
       " 'pickle/ensemble/ensemble.pkl_199.npy',\n",
       " 'pickle/ensemble/ensemble.pkl_200.npy',\n",
       " 'pickle/ensemble/ensemble.pkl_201.npy',\n",
       " 'pickle/ensemble/ensemble.pkl_202.npy',\n",
       " 'pickle/ensemble/ensemble.pkl_203.npy',\n",
       " 'pickle/ensemble/ensemble.pkl_204.npy',\n",
       " 'pickle/ensemble/ensemble.pkl_205.npy',\n",
       " 'pickle/ensemble/ensemble.pkl_206.npy',\n",
       " 'pickle/ensemble/ensemble.pkl_207.npy',\n",
       " 'pickle/ensemble/ensemble.pkl_208.npy',\n",
       " 'pickle/ensemble/ensemble.pkl_209.npy',\n",
       " 'pickle/ensemble/ensemble.pkl_210.npy',\n",
       " 'pickle/ensemble/ensemble.pkl_211.npy',\n",
       " 'pickle/ensemble/ensemble.pkl_212.npy',\n",
       " 'pickle/ensemble/ensemble.pkl_213.npy',\n",
       " 'pickle/ensemble/ensemble.pkl_214.npy',\n",
       " 'pickle/ensemble/ensemble.pkl_215.npy',\n",
       " 'pickle/ensemble/ensemble.pkl_216.npy',\n",
       " 'pickle/ensemble/ensemble.pkl_217.npy',\n",
       " 'pickle/ensemble/ensemble.pkl_218.npy',\n",
       " 'pickle/ensemble/ensemble.pkl_219.npy',\n",
       " 'pickle/ensemble/ensemble.pkl_220.npy',\n",
       " 'pickle/ensemble/ensemble.pkl_221.npy',\n",
       " 'pickle/ensemble/ensemble.pkl_222.npy',\n",
       " 'pickle/ensemble/ensemble.pkl_223.npy',\n",
       " 'pickle/ensemble/ensemble.pkl_224.npy',\n",
       " 'pickle/ensemble/ensemble.pkl_225.npy',\n",
       " 'pickle/ensemble/ensemble.pkl_226.npy',\n",
       " 'pickle/ensemble/ensemble.pkl_227.npy',\n",
       " 'pickle/ensemble/ensemble.pkl_228.npy',\n",
       " 'pickle/ensemble/ensemble.pkl_229.npy',\n",
       " 'pickle/ensemble/ensemble.pkl_230.npy',\n",
       " 'pickle/ensemble/ensemble.pkl_231.npy',\n",
       " 'pickle/ensemble/ensemble.pkl_232.npy',\n",
       " 'pickle/ensemble/ensemble.pkl_233.npy',\n",
       " 'pickle/ensemble/ensemble.pkl_234.npy',\n",
       " 'pickle/ensemble/ensemble.pkl_235.npy',\n",
       " 'pickle/ensemble/ensemble.pkl_236.npy',\n",
       " 'pickle/ensemble/ensemble.pkl_237.npy',\n",
       " 'pickle/ensemble/ensemble.pkl_238.npy',\n",
       " 'pickle/ensemble/ensemble.pkl_239.npy',\n",
       " 'pickle/ensemble/ensemble.pkl_240.npy',\n",
       " 'pickle/ensemble/ensemble.pkl_241.npy',\n",
       " 'pickle/ensemble/ensemble.pkl_242.npy',\n",
       " 'pickle/ensemble/ensemble.pkl_243.npy',\n",
       " 'pickle/ensemble/ensemble.pkl_244.npy',\n",
       " 'pickle/ensemble/ensemble.pkl_245.npy',\n",
       " 'pickle/ensemble/ensemble.pkl_246.npy',\n",
       " 'pickle/ensemble/ensemble.pkl_247.npy',\n",
       " 'pickle/ensemble/ensemble.pkl_248.npy',\n",
       " 'pickle/ensemble/ensemble.pkl_249.npy',\n",
       " 'pickle/ensemble/ensemble.pkl_250.npy',\n",
       " 'pickle/ensemble/ensemble.pkl_251.npy',\n",
       " 'pickle/ensemble/ensemble.pkl_252.npy',\n",
       " 'pickle/ensemble/ensemble.pkl_253.npy',\n",
       " 'pickle/ensemble/ensemble.pkl_254.npy',\n",
       " 'pickle/ensemble/ensemble.pkl_255.npy',\n",
       " 'pickle/ensemble/ensemble.pkl_256.npy',\n",
       " 'pickle/ensemble/ensemble.pkl_257.npy',\n",
       " 'pickle/ensemble/ensemble.pkl_258.npy',\n",
       " 'pickle/ensemble/ensemble.pkl_259.npy',\n",
       " 'pickle/ensemble/ensemble.pkl_260.npy',\n",
       " 'pickle/ensemble/ensemble.pkl_261.npy',\n",
       " 'pickle/ensemble/ensemble.pkl_262.npy']"
      ]
     },
     "execution_count": 309,
     "metadata": {},
     "output_type": "execute_result"
    }
   ],
   "source": [
    "# serializing model\n",
    "\n",
    "from sklearn.externals import joblib\n",
    "joblib.dump(lr_random_search.best_estimator_, 'pickle/lr/lr.pkl')\n",
    "joblib.dump(rf_random_search.best_estimator_, 'pickle/rf/rf.pkl')\n",
    "joblib.dump(bnb_random_search.best_estimator_, 'pickle/bnb/bnb.pkl')\n",
    "joblib.dump(sgd_random_search.best_estimator_, 'pickle/sgd/sgd.pkl')\n",
    "joblib.dump(mnb_random_search.best_estimator_, 'pickle/mnb/mnb.pkl')\n",
    "joblib.dump(knn_random_search.best_estimator_, 'pickle/knn/knn.pkl')\n",
    "joblib.dump(ensemble3, 'pickle/ensemble/ensemble.pkl')"
   ]
  }
 ],
 "metadata": {
  "kernelspec": {
   "display_name": "Python 3",
   "language": "python",
   "name": "python3"
  },
  "language_info": {
   "codemirror_mode": {
    "name": "ipython",
    "version": 3
   },
   "file_extension": ".py",
   "mimetype": "text/x-python",
   "name": "python",
   "nbconvert_exporter": "python",
   "pygments_lexer": "ipython3",
   "version": "3.5.2"
  }
 },
 "nbformat": 4,
 "nbformat_minor": 1
}
