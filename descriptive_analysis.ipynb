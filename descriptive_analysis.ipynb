{
 "cells": [
  {
   "cell_type": "code",
   "execution_count": 13,
   "metadata": {
    "collapsed": true
   },
   "outputs": [],
   "source": [
    "%matplotlib inline\n",
    "import pandas as pd\n",
    "import numpy as np\n",
    "from scipy import stats"
   ]
  },
  {
   "cell_type": "markdown",
   "metadata": {},
   "source": [
    "### Working with a random sample (about 10%) from the airplanes dataset"
   ]
  },
  {
   "cell_type": "code",
   "execution_count": 2,
   "metadata": {
    "collapsed": true
   },
   "outputs": [],
   "source": [
    "df = pd.read_csv('slim_airplanes.csv')"
   ]
  },
  {
   "cell_type": "code",
   "execution_count": 3,
   "metadata": {
    "collapsed": false
   },
   "outputs": [
    {
     "data": {
      "text/plain": [
       "(531461, 14)"
      ]
     },
     "execution_count": 3,
     "metadata": {},
     "output_type": "execute_result"
    }
   ],
   "source": [
    "df.shape"
   ]
  },
  {
   "cell_type": "code",
   "execution_count": 10,
   "metadata": {
    "collapsed": false
   },
   "outputs": [],
   "source": [
    "del df['Unnamed: 0']"
   ]
  },
  {
   "cell_type": "markdown",
   "metadata": {},
   "source": [
    "### Relevant variables chosen"
   ]
  },
  {
   "cell_type": "code",
   "execution_count": 11,
   "metadata": {
    "collapsed": false
   },
   "outputs": [
    {
     "data": {
      "text/plain": [
       "array(['Quarter', 'Month', 'UniqueCarrier', 'FlightNum', 'OriginAirportID',\n",
       "       'DestAirportID', 'CRSDepTime', 'DepDelay', 'CRSArrTime', 'ArrDelay',\n",
       "       'Cancelled', 'CancellationCode', 'Distance'], dtype=object)"
      ]
     },
     "execution_count": 11,
     "metadata": {},
     "output_type": "execute_result"
    }
   ],
   "source": [
    "df.columns.values"
   ]
  },
  {
   "cell_type": "markdown",
   "metadata": {},
   "source": [
    "### Most repeated quarter"
   ]
  },
  {
   "cell_type": "code",
   "execution_count": 14,
   "metadata": {
    "collapsed": false
   },
   "outputs": [],
   "source": [
    "mode = stats.mode(df[['Quarter']])"
   ]
  },
  {
   "cell_type": "code",
   "execution_count": 17,
   "metadata": {
    "collapsed": false
   },
   "outputs": [
    {
     "data": {
      "text/plain": [
       "ModeResult(mode=array([[3]]), count=array([[149615]]))"
      ]
     },
     "execution_count": 17,
     "metadata": {},
     "output_type": "execute_result"
    }
   ],
   "source": [
    "mode"
   ]
  },
  {
   "cell_type": "markdown",
   "metadata": {},
   "source": [
    "### Most repeated month"
   ]
  },
  {
   "cell_type": "code",
   "execution_count": 19,
   "metadata": {
    "collapsed": false
   },
   "outputs": [],
   "source": [
    "mode = stats.mode(df[['Month']])"
   ]
  },
  {
   "cell_type": "code",
   "execution_count": 20,
   "metadata": {
    "collapsed": false
   },
   "outputs": [
    {
     "data": {
      "text/plain": [
       "ModeResult(mode=array([[7]]), count=array([[52070]]))"
      ]
     },
     "execution_count": 20,
     "metadata": {},
     "output_type": "execute_result"
    }
   ],
   "source": [
    "mode"
   ]
  },
  {
   "cell_type": "code",
   "execution_count": 23,
   "metadata": {
    "collapsed": false
   },
   "outputs": [],
   "source": [
    "mode = stats.mode(df[['FlightNum']])"
   ]
  },
  {
   "cell_type": "markdown",
   "metadata": {},
   "source": [
    "### Quarters when the most frequent flight took place"
   ]
  },
  {
   "cell_type": "code",
   "execution_count": 37,
   "metadata": {
    "collapsed": false
   },
   "outputs": [
    {
     "name": "stdout",
     "output_type": "stream",
     "text": [
      "469\n"
     ]
    },
    {
     "data": {
      "text/plain": [
       "6295      1\n",
       "6296      1\n",
       "6297      1\n",
       "6298      1\n",
       "12098     1\n",
       "12476     1\n",
       "12859     1\n",
       "14525     1\n",
       "14568     1\n",
       "14769     1\n",
       "15907     1\n",
       "16801     1\n",
       "16928     1\n",
       "17890     1\n",
       "19427     1\n",
       "21759     1\n",
       "22162     1\n",
       "22367     1\n",
       "23060     1\n",
       "23598     1\n",
       "23599     1\n",
       "23600     1\n",
       "23601     1\n",
       "23602     1\n",
       "23603     1\n",
       "23604     1\n",
       "23605     1\n",
       "29837     1\n",
       "31278     1\n",
       "31743     1\n",
       "         ..\n",
       "490825    3\n",
       "491438    3\n",
       "491698    3\n",
       "492324    3\n",
       "492996    3\n",
       "493072    3\n",
       "493152    3\n",
       "494469    3\n",
       "494470    3\n",
       "494471    3\n",
       "494472    3\n",
       "497297    3\n",
       "498239    3\n",
       "498898    3\n",
       "499023    3\n",
       "500548    3\n",
       "504429    3\n",
       "505587    3\n",
       "507654    3\n",
       "510993    3\n",
       "510994    3\n",
       "510995    3\n",
       "510996    3\n",
       "510997    3\n",
       "510998    3\n",
       "510999    3\n",
       "517742    3\n",
       "518495    3\n",
       "521389    3\n",
       "523249    3\n",
       "Name: Quarter, dtype: int64"
      ]
     },
     "execution_count": 37,
     "metadata": {},
     "output_type": "execute_result"
    }
   ],
   "source": [
    "flight = mode[0][0][0]\n",
    "print(flight)\n",
    "df[df['FlightNum'] == flight][:]['Quarter']"
   ]
  }
 ],
 "metadata": {
  "kernelspec": {
   "display_name": "Python 3",
   "language": "python",
   "name": "python3"
  },
  "language_info": {
   "codemirror_mode": {
    "name": "ipython",
    "version": 3
   },
   "file_extension": ".py",
   "mimetype": "text/x-python",
   "name": "python",
   "nbconvert_exporter": "python",
   "pygments_lexer": "ipython3",
   "version": "3.5.2"
  }
 },
 "nbformat": 4,
 "nbformat_minor": 1
}
