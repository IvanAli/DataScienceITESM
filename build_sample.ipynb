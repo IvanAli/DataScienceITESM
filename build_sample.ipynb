{
 "cells": [
  {
   "cell_type": "code",
   "execution_count": 1,
   "metadata": {
    "collapsed": true
   },
   "outputs": [],
   "source": [
    "import pandas as pd\n",
    "import numpy as np\n",
    "import csv\n",
    "import os\n",
    "import json\n",
    "import sys\n",
    "import random\n",
    "from time import time"
   ]
  },
  {
   "cell_type": "code",
   "execution_count": 2,
   "metadata": {
    "collapsed": true
   },
   "outputs": [],
   "source": [
    "fieldnames = ['Quarter', 'Month', 'UniqueCarrier', 'FlightNum', 'OriginAirportID', \n",
    "              'DestAirportID', 'CRSDepTime', 'DepDelay', 'CRSArrTime', 'ArrDelay', 'Cancelled', 'CancellationCode',\n",
    "             'Distance']"
   ]
  },
  {
   "cell_type": "code",
   "execution_count": 3,
   "metadata": {
    "collapsed": false
   },
   "outputs": [],
   "source": [
    "def subset_data(data_path, dest_name, sample_size=.1, prog=False):\n",
    "    slim = pd.DataFrame()\n",
    "    files = sorted(os.listdir(data_path))\n",
    "    print('total number of files: %d' % len(files))\n",
    "    for i, file_name in enumerate(files[:len(files)]):\n",
    "        f = os.path.join(data_path, file_name)\n",
    "        num_lines = sum(1 for l in open(f))\n",
    "        # sample size - about 25%\n",
    "        size = int(num_lines * sample_size)\n",
    "\n",
    "        # row indices to skip\n",
    "        skip_idx = random.sample(range(10, num_lines), num_lines - size)\n",
    "    \n",
    "        # read the data\n",
    "        data = pd.read_csv(f, skiprows=skip_idx)\n",
    "        data = data[fieldnames]\n",
    "        if slim.empty: slim = data.copy(deep=True)\n",
    "        else: slim = slim.append(data)\n",
    "        if prog: print('Done with %s' % (file_name))\n",
    "    slim.loc[slim['Cancelled'] == 1, ['ArrDelay', 'DepDelay']] = np.nan\n",
    "    slim.to_csv(dest_name, index=False)"
   ]
  },
  {
   "cell_type": "code",
   "execution_count": 5,
   "metadata": {
    "collapsed": false
   },
   "outputs": [
    {
     "name": "stdout",
     "output_type": "stream",
     "text": [
      "total number of files: 11\n",
      "Done with On_Time_On_Time_Performance_2015_1.csv\n",
      "Done with On_Time_On_Time_Performance_2015_10.csv\n",
      "Done with On_Time_On_Time_Performance_2015_11.csv\n",
      "Done with On_Time_On_Time_Performance_2015_12.csv\n",
      "Done with On_Time_On_Time_Performance_2015_2.csv\n",
      "Done with On_Time_On_Time_Performance_2015_4.csv\n",
      "Done with On_Time_On_Time_Performance_2015_5.csv\n",
      "Done with On_Time_On_Time_Performance_2015_6.csv\n",
      "Done with On_Time_On_Time_Performance_2015_7.csv\n",
      "Done with On_Time_On_Time_Performance_2015_8.csv\n",
      "Done with On_Time_On_Time_Performance_2015_9.csv\n"
     ]
    }
   ],
   "source": [
    "# the csv files are located under the folder data\n",
    "# eg: data/On_Time_On_Time_Performance_2015_10.csv \n",
    "subset_data('./data/', 'slim_airplanes_01perc.csv', sample_size=0.01, prog=True)"
   ]
  },
  {
   "cell_type": "code",
   "execution_count": 3,
   "metadata": {
    "collapsed": true
   },
   "outputs": [],
   "source": [
    "df = pd.read_csv('slim_airplanes_40perc.csv')"
   ]
  },
  {
   "cell_type": "code",
   "execution_count": 5,
   "metadata": {
    "collapsed": false
   },
   "outputs": [
    {
     "data": {
      "text/plain": [
       "(2125894, 13)"
      ]
     },
     "execution_count": 5,
     "metadata": {},
     "output_type": "execute_result"
    }
   ],
   "source": [
    "df.shape"
   ]
  },
  {
   "cell_type": "code",
   "execution_count": 60,
   "metadata": {
    "collapsed": false
   },
   "outputs": [
    {
     "data": {
      "text/plain": [
       "0"
      ]
     },
     "execution_count": 60,
     "metadata": {},
     "output_type": "execute_result"
    }
   ],
   "source": [
    "df[df['Cancelled'] == 1]['ArrDelay'].notnull().sum()"
   ]
  },
  {
   "cell_type": "code",
   "execution_count": 55,
   "metadata": {
    "collapsed": false
   },
   "outputs": [
    {
     "data": {
      "text/plain": [
       "0"
      ]
     },
     "execution_count": 55,
     "metadata": {},
     "output_type": "execute_result"
    }
   ],
   "source": [
    "df[df['Cancelled'] == 1]['DepDelay'].notnull().sum()"
   ]
  },
  {
   "cell_type": "code",
   "execution_count": 56,
   "metadata": {
    "collapsed": false
   },
   "outputs": [
    {
     "data": {
      "text/html": [
       "<div>\n",
       "<table border=\"1\" class=\"dataframe\">\n",
       "  <thead>\n",
       "    <tr style=\"text-align: right;\">\n",
       "      <th></th>\n",
       "      <th>Quarter</th>\n",
       "      <th>Month</th>\n",
       "      <th>UniqueCarrier</th>\n",
       "      <th>FlightNum</th>\n",
       "      <th>OriginAirportID</th>\n",
       "      <th>DestAirportID</th>\n",
       "      <th>CRSDepTime</th>\n",
       "      <th>DepDelay</th>\n",
       "      <th>CRSArrTime</th>\n",
       "      <th>ArrDelay</th>\n",
       "      <th>Cancelled</th>\n",
       "      <th>CancellationCode</th>\n",
       "      <th>Distance</th>\n",
       "    </tr>\n",
       "  </thead>\n",
       "  <tbody>\n",
       "    <tr>\n",
       "      <th>0</th>\n",
       "      <td>1</td>\n",
       "      <td>1</td>\n",
       "      <td>AA</td>\n",
       "      <td>1</td>\n",
       "      <td>12478</td>\n",
       "      <td>12892</td>\n",
       "      <td>900</td>\n",
       "      <td>-5.0</td>\n",
       "      <td>1230</td>\n",
       "      <td>7.0</td>\n",
       "      <td>0.0</td>\n",
       "      <td>NaN</td>\n",
       "      <td>2475.0</td>\n",
       "    </tr>\n",
       "    <tr>\n",
       "      <th>1</th>\n",
       "      <td>1</td>\n",
       "      <td>1</td>\n",
       "      <td>AA</td>\n",
       "      <td>1</td>\n",
       "      <td>12478</td>\n",
       "      <td>12892</td>\n",
       "      <td>900</td>\n",
       "      <td>-10.0</td>\n",
       "      <td>1230</td>\n",
       "      <td>-19.0</td>\n",
       "      <td>0.0</td>\n",
       "      <td>NaN</td>\n",
       "      <td>2475.0</td>\n",
       "    </tr>\n",
       "    <tr>\n",
       "      <th>2</th>\n",
       "      <td>1</td>\n",
       "      <td>1</td>\n",
       "      <td>AA</td>\n",
       "      <td>1</td>\n",
       "      <td>12478</td>\n",
       "      <td>12892</td>\n",
       "      <td>900</td>\n",
       "      <td>-7.0</td>\n",
       "      <td>1230</td>\n",
       "      <td>-39.0</td>\n",
       "      <td>0.0</td>\n",
       "      <td>NaN</td>\n",
       "      <td>2475.0</td>\n",
       "    </tr>\n",
       "    <tr>\n",
       "      <th>3</th>\n",
       "      <td>1</td>\n",
       "      <td>1</td>\n",
       "      <td>AA</td>\n",
       "      <td>1</td>\n",
       "      <td>12478</td>\n",
       "      <td>12892</td>\n",
       "      <td>900</td>\n",
       "      <td>-7.0</td>\n",
       "      <td>1230</td>\n",
       "      <td>-12.0</td>\n",
       "      <td>0.0</td>\n",
       "      <td>NaN</td>\n",
       "      <td>2475.0</td>\n",
       "    </tr>\n",
       "    <tr>\n",
       "      <th>4</th>\n",
       "      <td>1</td>\n",
       "      <td>1</td>\n",
       "      <td>AA</td>\n",
       "      <td>1</td>\n",
       "      <td>12478</td>\n",
       "      <td>12892</td>\n",
       "      <td>900</td>\n",
       "      <td>-7.0</td>\n",
       "      <td>1230</td>\n",
       "      <td>-8.0</td>\n",
       "      <td>0.0</td>\n",
       "      <td>NaN</td>\n",
       "      <td>2475.0</td>\n",
       "    </tr>\n",
       "  </tbody>\n",
       "</table>\n",
       "</div>"
      ],
      "text/plain": [
       "   Quarter  Month UniqueCarrier  FlightNum  OriginAirportID  DestAirportID  \\\n",
       "0        1      1            AA          1            12478          12892   \n",
       "1        1      1            AA          1            12478          12892   \n",
       "2        1      1            AA          1            12478          12892   \n",
       "3        1      1            AA          1            12478          12892   \n",
       "4        1      1            AA          1            12478          12892   \n",
       "\n",
       "   CRSDepTime  DepDelay  CRSArrTime  ArrDelay  Cancelled CancellationCode  \\\n",
       "0         900      -5.0        1230       7.0        0.0              NaN   \n",
       "1         900     -10.0        1230     -19.0        0.0              NaN   \n",
       "2         900      -7.0        1230     -39.0        0.0              NaN   \n",
       "3         900      -7.0        1230     -12.0        0.0              NaN   \n",
       "4         900      -7.0        1230      -8.0        0.0              NaN   \n",
       "\n",
       "   Distance  \n",
       "0    2475.0  \n",
       "1    2475.0  \n",
       "2    2475.0  \n",
       "3    2475.0  \n",
       "4    2475.0  "
      ]
     },
     "execution_count": 56,
     "metadata": {},
     "output_type": "execute_result"
    }
   ],
   "source": [
    "df.head()"
   ]
  },
  {
   "cell_type": "code",
   "execution_count": null,
   "metadata": {
    "collapsed": true
   },
   "outputs": [],
   "source": []
  }
 ],
 "metadata": {
  "kernelspec": {
   "display_name": "Python 3",
   "language": "python",
   "name": "python3"
  },
  "language_info": {
   "codemirror_mode": {
    "name": "ipython",
    "version": 3
   },
   "file_extension": ".py",
   "mimetype": "text/x-python",
   "name": "python",
   "nbconvert_exporter": "python",
   "pygments_lexer": "ipython3",
   "version": "3.5.2"
  }
 },
 "nbformat": 4,
 "nbformat_minor": 1
}
