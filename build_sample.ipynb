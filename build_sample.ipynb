{
 "cells": [
  {
   "cell_type": "code",
   "execution_count": 30,
   "metadata": {
    "collapsed": true
   },
   "outputs": [],
   "source": [
    "import pandas as pd\n",
    "import numpy as np\n",
    "import csv\n",
    "import os\n",
    "import json\n",
    "import sys\n",
    "import random\n",
    "from time import time"
   ]
  },
  {
   "cell_type": "code",
   "execution_count": 31,
   "metadata": {
    "collapsed": true
   },
   "outputs": [],
   "source": [
    "fieldnames = ['Quarter', 'Month', 'UniqueCarrier', 'FlightNum', 'OriginAirportID', \n",
    "              'DestAirportID', 'CRSDepTime', 'DepDelay', 'CRSArrTime', 'ArrDelay', 'Cancelled', 'CancellationCode',\n",
    "             'Distance']"
   ]
  },
  {
   "cell_type": "code",
   "execution_count": 36,
   "metadata": {
    "collapsed": false
   },
   "outputs": [],
   "source": [
    "def subset_data(data_path, dest_name, prog=False):\n",
    "    slim = pd.DataFrame()\n",
    "    files = sorted(os.listdir(data_path))\n",
    "    print('total number of files: %d' % len(files))\n",
    "    for i, file_name in enumerate(files[:len(files)]):\n",
    "        f = os.path.join(data_path, file_name)\n",
    "        num_lines = sum(1 for l in open(f))\n",
    "        # sample size - about 10%\n",
    "        size = int(num_lines / 10)\n",
    "\n",
    "        # row indices to skip\n",
    "        skip_idx = random.sample(range(10, num_lines), num_lines - size)\n",
    "    \n",
    "        # read the data\n",
    "        data = pd.read_csv(f, skiprows=skip_idx)\n",
    "        data = data[fieldnames]\n",
    "        if slim.empty: slim = data.copy(deep=True)\n",
    "        else: slim = slim.append(data)\n",
    "    slim.to_csv(dest_name)"
   ]
  },
  {
   "cell_type": "code",
   "execution_count": 37,
   "metadata": {
    "collapsed": false
   },
   "outputs": [
    {
     "name": "stdout",
     "output_type": "stream",
     "text": [
      "total number of files: 11\n"
     ]
    },
    {
     "name": "stderr",
     "output_type": "stream",
     "text": [
      "/usr/local/lib/python3.5/dist-packages/IPython/core/interactiveshell.py:2827: DtypeWarning: Columns (77) have mixed types. Specify dtype option on import or set low_memory=False.\n",
      "  if self.run_code(code, result):\n",
      "/usr/local/lib/python3.5/dist-packages/IPython/core/interactiveshell.py:2827: DtypeWarning: Columns (77,84) have mixed types. Specify dtype option on import or set low_memory=False.\n",
      "  if self.run_code(code, result):\n",
      "/usr/local/lib/python3.5/dist-packages/IPython/core/interactiveshell.py:2827: DtypeWarning: Columns (48) have mixed types. Specify dtype option on import or set low_memory=False.\n",
      "  if self.run_code(code, result):\n"
     ]
    }
   ],
   "source": [
    "# the csv files are located under the folder data\n",
    "# eg: data/On_Time_On_Time_Performance_2015_10.csv \n",
    "subset_data('./data/', 'slim_airplanes.csv', prog=True)"
   ]
  },
  {
   "cell_type": "code",
   "execution_count": null,
   "metadata": {
    "collapsed": true
   },
   "outputs": [],
   "source": []
  }
 ],
 "metadata": {
  "kernelspec": {
   "display_name": "Python 3",
   "language": "python",
   "name": "python3"
  },
  "language_info": {
   "codemirror_mode": {
    "name": "ipython",
    "version": 3
   },
   "file_extension": ".py",
   "mimetype": "text/x-python",
   "name": "python",
   "nbconvert_exporter": "python",
   "pygments_lexer": "ipython3",
   "version": "3.5.2"
  }
 },
 "nbformat": 4,
 "nbformat_minor": 1
}
